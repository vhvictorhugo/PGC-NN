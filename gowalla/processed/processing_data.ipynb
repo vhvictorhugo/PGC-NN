{
 "cells": [
  {
   "cell_type": "markdown",
   "id": "4b852931",
   "metadata": {},
   "source": [
    "# Libraries"
   ]
  },
  {
   "cell_type": "code",
   "execution_count": 1,
   "id": "58d07d28",
   "metadata": {},
   "outputs": [],
   "source": [
    "import pandas as pd\n",
    "import math\n",
    "import numpy as np"
   ]
  },
  {
   "cell_type": "markdown",
   "id": "1757b2c4",
   "metadata": {},
   "source": [
    "# Remove Users"
   ]
  },
  {
   "cell_type": "code",
   "execution_count": 2,
   "id": "a22776c2",
   "metadata": {},
   "outputs": [],
   "source": [
    "files = ['adjacency_matrix_not_directed_48_7_categories_US.csv',\n",
    "        'adjacency_matrix_weekday_not_directed_48_7_categories_US.csv',\n",
    "        'adjacency_matrix_weekend_not_directed_48_7_categories_US.csv',\n",
    "        'distance_matrix_not_directed_48_7_categories_US.csv',\n",
    "        'duration_matrix_not_directed_48_7_categories_US.csv',\n",
    "        'features_matrix_not_directed_48_7_categories_US.csv',\n",
    "        'features_matrix_weekday_not_directed_48_7_categories_US.csv',\n",
    "        'features_matrix_weekend_not_directed_48_7_categories_US.csv']\n",
    "\n",
    "limit = 1000\n",
    "for file in files:\n",
    "    df = pd.read_csv('../'+file)\n",
    "    df.drop(df.loc[df['user_id'] > limit].index, inplace=True)    \n",
    "    df.to_csv(file, index=False)"
   ]
  }
 ],
 "metadata": {
  "kernelspec": {
   "display_name": "Python 3",
   "language": "python",
   "name": "python3"
  },
  "language_info": {
   "codemirror_mode": {
    "name": "ipython",
    "version": 3
   },
   "file_extension": ".py",
   "mimetype": "text/x-python",
   "name": "python",
   "nbconvert_exporter": "python",
   "pygments_lexer": "ipython3",
   "version": "3.7.6"
  }
 },
 "nbformat": 4,
 "nbformat_minor": 5
}
