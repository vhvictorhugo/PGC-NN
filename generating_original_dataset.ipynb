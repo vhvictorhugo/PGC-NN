{
 "cells": [
  {
   "cell_type": "markdown",
   "id": "17fad4b3",
   "metadata": {},
   "source": [
    "# Libraries"
   ]
  },
  {
   "cell_type": "code",
   "execution_count": 1,
   "id": "17cfd500",
   "metadata": {},
   "outputs": [],
   "source": [
    "import pandas as pd\n",
    "import math\n",
    "import numpy as np"
   ]
  },
  {
   "cell_type": "markdown",
   "id": "8d7563a8",
   "metadata": {},
   "source": [
    "# Generating dataset baseline - per state"
   ]
  },
  {
   "cell_type": "code",
   "execution_count": 2,
   "id": "bf2acc35",
   "metadata": {},
   "outputs": [],
   "source": [
    "# gowalla/checkins.csv é o arquivo gowalla_geo_checkins.csv gerado pelo Paulo\n",
    "g_dataset = pd.read_csv('checkins_data/checkins_local/checkins_local_Texas.csv', index_col=False, usecols = ['userid', 'datetime', 'lat', 'lng', 'placeid', 'categoryid'])"
   ]
  },
  {
   "cell_type": "code",
   "execution_count": 3,
   "id": "103e982b",
   "metadata": {},
   "outputs": [],
   "source": [
    "g_dataset['country'] = 'United States'\n",
    "g_dataset['state'] = 'Texas'"
   ]
  },
  {
   "cell_type": "code",
   "execution_count": 4,
   "id": "1f96c8f6",
   "metadata": {},
   "outputs": [],
   "source": [
    "# datetime converter\n",
    "g_dataset['datetime'] = pd.to_datetime(g_dataset['datetime'])\n",
    "order_cols = ['userid', 'categoryid', 'placeid', 'datetime', 'lat', 'lng', 'country', 'state']\n",
    "g_dataset = g_dataset[order_cols]"
   ]
  },
  {
   "cell_type": "code",
   "execution_count": 5,
   "id": "28abccc7",
   "metadata": {},
   "outputs": [],
   "source": [
    "cols = ['userid', 'category', 'placeid', 'local_datetime', 'latitude', 'longitude', 'country_name', 'state_name']\n",
    "# Criar um dicionário que mapeia os nomes atuais das colunas para os novos nomes\n",
    "maps = dict(zip(g_dataset.columns, cols))\n",
    "\n",
    "# Renomear as colunas usando o método rename()\n",
    "g_dataset = g_dataset.rename(columns=maps)"
   ]
  },
  {
   "cell_type": "code",
   "execution_count": 6,
   "id": "62987b28",
   "metadata": {},
   "outputs": [],
   "source": [
    "# category_names.csv é o arquivo category_names.csv gerado pelo Paulo\n",
    "\n",
    "categories = pd.read_csv('checkins_data/general/category_names.csv')"
   ]
  },
  {
   "cell_type": "code",
   "execution_count": 7,
   "id": "70e68f0c",
   "metadata": {},
   "outputs": [],
   "source": [
    "g_dataset = pd.merge(g_dataset, categories, left_on=\"category\", right_on=\"categoryid\")\n",
    "g_dataset['category'] = g_dataset['name']\n",
    "g_dataset.drop(['name', 'categoryid'], axis=1, inplace=True)"
   ]
  },
  {
   "cell_type": "code",
   "execution_count": 8,
   "id": "21c160ad",
   "metadata": {},
   "outputs": [],
   "source": [
    "qt_lugares_por_usuario = (\n",
    "    g_dataset\n",
    "    .groupby('userid')\n",
    "    .agg(\n",
    "        {'placeid':'nunique'}\n",
    "    )\n",
    "    .sort_values(by=['placeid'], ascending=False)\n",
    "    .reset_index()\n",
    ")\n",
    "\n",
    "# filtrando usuarios com menos de 30 checkins\n",
    "qt_lugares_por_usuario = qt_lugares_por_usuario[qt_lugares_por_usuario['placeid'] >= 30]\n",
    "\n",
    "usuarios_validos = qt_lugares_por_usuario['userid'].unique()\n",
    "\n",
    "g_dataset = g_dataset[g_dataset['userid'].isin(usuarios_validos)]"
   ]
  },
  {
   "cell_type": "code",
   "execution_count": 10,
   "id": "69d89bc5",
   "metadata": {},
   "outputs": [],
   "source": [
    "g_dataset.to_csv('gowalla/checkins.csv', index=False)"
   ]
  }
 ],
 "metadata": {
  "kernelspec": {
   "display_name": "Python 3 (ipykernel)",
   "language": "python",
   "name": "python3"
  },
  "language_info": {
   "codemirror_mode": {
    "name": "ipython",
    "version": 3
   },
   "file_extension": ".py",
   "mimetype": "text/x-python",
   "name": "python",
   "nbconvert_exporter": "python",
   "pygments_lexer": "ipython3",
   "version": "3.10.0"
  }
 },
 "nbformat": 4,
 "nbformat_minor": 5
}
