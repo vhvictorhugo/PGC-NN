{
 "cells": [
  {
   "cell_type": "markdown",
   "id": "17fad4b3",
   "metadata": {},
   "source": [
    "# Libraries"
   ]
  },
  {
   "cell_type": "code",
   "execution_count": 20,
   "id": "17cfd500",
   "metadata": {},
   "outputs": [],
   "source": [
    "import pandas as pd\n",
    "import math\n",
    "import numpy as np"
   ]
  },
  {
   "cell_type": "markdown",
   "id": "8d7563a8",
   "metadata": {},
   "source": [
    "# Generating dataset baseline - Alabama state"
   ]
  },
  {
   "cell_type": "code",
   "execution_count": 21,
   "id": "bf2acc35",
   "metadata": {},
   "outputs": [],
   "source": [
    "# gowalla/checkins.csv é o arquivo gowalla_geo_checkins.csv gerado pelo Paulo\n",
    "# g_dataset = pd.read_csv('../Dados/checkins_data/general/gowalla_geo_checkins.csv', index_col=False, usecols = ['userid', 'datetime', 'lat', 'lng', 'placeid', 'categoryid', 'NAME'])\n",
    "g_dataset = pd.read_csv('checkins_data/checkins_local/checkins_local_Alabama.csv', index_col=False, usecols = ['userid', 'datetime', 'lat', 'lng', 'placeid', 'categoryid'])"
   ]
  },
  {
   "cell_type": "code",
   "execution_count": 22,
   "id": "f6777c47",
   "metadata": {},
   "outputs": [
    {
     "name": "stdout",
     "output_type": "stream",
     "text": [
      "<class 'pandas.core.frame.DataFrame'>\n",
      "RangeIndex: 4279 entries, 0 to 4278\n",
      "Data columns (total 6 columns):\n",
      " #   Column      Non-Null Count  Dtype  \n",
      "---  ------      --------------  -----  \n",
      " 0   userid      4279 non-null   int64  \n",
      " 1   placeid     4279 non-null   int64  \n",
      " 2   datetime    4279 non-null   object \n",
      " 3   categoryid  4279 non-null   int64  \n",
      " 4   lat         4279 non-null   float64\n",
      " 5   lng         4279 non-null   float64\n",
      "dtypes: float64(2), int64(3), object(1)\n",
      "memory usage: 200.7+ KB\n"
     ]
    }
   ],
   "source": [
    "g_dataset.info()"
   ]
  },
  {
   "cell_type": "code",
   "execution_count": 23,
   "id": "103e982b",
   "metadata": {},
   "outputs": [],
   "source": [
    "g_dataset['country'] = 'United States'\n",
    "g_dataset['state'] = 'Alabama'"
   ]
  },
  {
   "cell_type": "code",
   "execution_count": 24,
   "id": "1f96c8f6",
   "metadata": {},
   "outputs": [],
   "source": [
    "# datetime converter\n",
    "g_dataset['datetime'] = pd.to_datetime(g_dataset['datetime'])\n",
    "order_cols = ['userid', 'categoryid', 'placeid', 'datetime', 'lat', 'lng', 'country', 'state']\n",
    "g_dataset = g_dataset[order_cols]"
   ]
  },
  {
   "cell_type": "code",
   "execution_count": 25,
   "id": "28abccc7",
   "metadata": {},
   "outputs": [],
   "source": [
    "cols = ['userid', 'category', 'placeid', 'local_datetime', 'latitude', 'longitude', 'country_name', 'state_name']\n",
    "# Criar um dicionário que mapeia os nomes atuais das colunas para os novos nomes\n",
    "maps = dict(zip(g_dataset.columns, cols))\n",
    "\n",
    "# Renomear as colunas usando o método rename()\n",
    "g_dataset = g_dataset.rename(columns=maps)"
   ]
  },
  {
   "cell_type": "code",
   "execution_count": 26,
   "id": "62987b28",
   "metadata": {},
   "outputs": [],
   "source": [
    "# category_names.csv é o arquivo category_names.csv gerado pelo Paulo\n",
    "\n",
    "categories = pd.read_csv('checkins_data/general/category_names.csv')"
   ]
  },
  {
   "cell_type": "code",
   "execution_count": 27,
   "id": "70e68f0c",
   "metadata": {},
   "outputs": [],
   "source": [
    "g_dataset = pd.merge(g_dataset, categories, left_on=\"category\", right_on=\"categoryid\")\n",
    "g_dataset['category'] = g_dataset['name']\n",
    "g_dataset.drop(['name', 'categoryid'], axis=1, inplace=True)"
   ]
  },
  {
   "cell_type": "code",
   "execution_count": 28,
   "id": "7a971a5a",
   "metadata": {},
   "outputs": [
    {
     "data": {
      "text/html": [
       "<div>\n",
       "<style scoped>\n",
       "    .dataframe tbody tr th:only-of-type {\n",
       "        vertical-align: middle;\n",
       "    }\n",
       "\n",
       "    .dataframe tbody tr th {\n",
       "        vertical-align: top;\n",
       "    }\n",
       "\n",
       "    .dataframe thead th {\n",
       "        text-align: right;\n",
       "    }\n",
       "</style>\n",
       "<table border=\"1\" class=\"dataframe\">\n",
       "  <thead>\n",
       "    <tr style=\"text-align: right;\">\n",
       "      <th></th>\n",
       "      <th>userid</th>\n",
       "      <th>category</th>\n",
       "      <th>placeid</th>\n",
       "      <th>local_datetime</th>\n",
       "      <th>latitude</th>\n",
       "      <th>longitude</th>\n",
       "      <th>country_name</th>\n",
       "      <th>state_name</th>\n",
       "    </tr>\n",
       "  </thead>\n",
       "  <tbody>\n",
       "    <tr>\n",
       "      <th>0</th>\n",
       "      <td>1338</td>\n",
       "      <td>Travel</td>\n",
       "      <td>16772</td>\n",
       "      <td>2010-03-22 15:21:29+00:00</td>\n",
       "      <td>30.681178</td>\n",
       "      <td>-88.244226</td>\n",
       "      <td>United States</td>\n",
       "      <td>Alabama</td>\n",
       "    </tr>\n",
       "    <tr>\n",
       "      <th>1</th>\n",
       "      <td>1338</td>\n",
       "      <td>Travel</td>\n",
       "      <td>16772</td>\n",
       "      <td>2010-03-19 23:11:53+00:00</td>\n",
       "      <td>30.681178</td>\n",
       "      <td>-88.244226</td>\n",
       "      <td>United States</td>\n",
       "      <td>Alabama</td>\n",
       "    </tr>\n",
       "    <tr>\n",
       "      <th>2</th>\n",
       "      <td>162577</td>\n",
       "      <td>Travel</td>\n",
       "      <td>16772</td>\n",
       "      <td>2010-03-22 11:53:35+00:00</td>\n",
       "      <td>30.681178</td>\n",
       "      <td>-88.244226</td>\n",
       "      <td>United States</td>\n",
       "      <td>Alabama</td>\n",
       "    </tr>\n",
       "    <tr>\n",
       "      <th>3</th>\n",
       "      <td>162577</td>\n",
       "      <td>Travel</td>\n",
       "      <td>16772</td>\n",
       "      <td>2010-03-21 21:20:12+00:00</td>\n",
       "      <td>30.681178</td>\n",
       "      <td>-88.244226</td>\n",
       "      <td>United States</td>\n",
       "      <td>Alabama</td>\n",
       "    </tr>\n",
       "    <tr>\n",
       "      <th>4</th>\n",
       "      <td>174066</td>\n",
       "      <td>Travel</td>\n",
       "      <td>16772</td>\n",
       "      <td>2010-03-22 12:03:25+00:00</td>\n",
       "      <td>30.681178</td>\n",
       "      <td>-88.244226</td>\n",
       "      <td>United States</td>\n",
       "      <td>Alabama</td>\n",
       "    </tr>\n",
       "    <tr>\n",
       "      <th>...</th>\n",
       "      <td>...</td>\n",
       "      <td>...</td>\n",
       "      <td>...</td>\n",
       "      <td>...</td>\n",
       "      <td>...</td>\n",
       "      <td>...</td>\n",
       "      <td>...</td>\n",
       "      <td>...</td>\n",
       "    </tr>\n",
       "    <tr>\n",
       "      <th>4274</th>\n",
       "      <td>8031</td>\n",
       "      <td>Nightlife</td>\n",
       "      <td>749276</td>\n",
       "      <td>2010-11-09 03:53:42+00:00</td>\n",
       "      <td>34.739341</td>\n",
       "      <td>-86.601423</td>\n",
       "      <td>United States</td>\n",
       "      <td>Alabama</td>\n",
       "    </tr>\n",
       "    <tr>\n",
       "      <th>4275</th>\n",
       "      <td>8031</td>\n",
       "      <td>Nightlife</td>\n",
       "      <td>659737</td>\n",
       "      <td>2010-11-09 03:52:59+00:00</td>\n",
       "      <td>34.731877</td>\n",
       "      <td>-86.585701</td>\n",
       "      <td>United States</td>\n",
       "      <td>Alabama</td>\n",
       "    </tr>\n",
       "    <tr>\n",
       "      <th>4276</th>\n",
       "      <td>8031</td>\n",
       "      <td>Nightlife</td>\n",
       "      <td>760168</td>\n",
       "      <td>2010-11-08 23:33:47+00:00</td>\n",
       "      <td>34.717348</td>\n",
       "      <td>-86.672453</td>\n",
       "      <td>United States</td>\n",
       "      <td>Alabama</td>\n",
       "    </tr>\n",
       "    <tr>\n",
       "      <th>4277</th>\n",
       "      <td>14410</td>\n",
       "      <td>Nightlife</td>\n",
       "      <td>286546</td>\n",
       "      <td>2010-09-29 03:20:24+00:00</td>\n",
       "      <td>30.281334</td>\n",
       "      <td>-87.518388</td>\n",
       "      <td>United States</td>\n",
       "      <td>Alabama</td>\n",
       "    </tr>\n",
       "    <tr>\n",
       "      <th>4278</th>\n",
       "      <td>14410</td>\n",
       "      <td>Nightlife</td>\n",
       "      <td>286546</td>\n",
       "      <td>2010-06-17 02:46:28+00:00</td>\n",
       "      <td>30.281334</td>\n",
       "      <td>-87.518388</td>\n",
       "      <td>United States</td>\n",
       "      <td>Alabama</td>\n",
       "    </tr>\n",
       "  </tbody>\n",
       "</table>\n",
       "<p>4279 rows × 8 columns</p>\n",
       "</div>"
      ],
      "text/plain": [
       "      userid   category  placeid            local_datetime   latitude  \\\n",
       "0       1338     Travel    16772 2010-03-22 15:21:29+00:00  30.681178   \n",
       "1       1338     Travel    16772 2010-03-19 23:11:53+00:00  30.681178   \n",
       "2     162577     Travel    16772 2010-03-22 11:53:35+00:00  30.681178   \n",
       "3     162577     Travel    16772 2010-03-21 21:20:12+00:00  30.681178   \n",
       "4     174066     Travel    16772 2010-03-22 12:03:25+00:00  30.681178   \n",
       "...      ...        ...      ...                       ...        ...   \n",
       "4274    8031  Nightlife   749276 2010-11-09 03:53:42+00:00  34.739341   \n",
       "4275    8031  Nightlife   659737 2010-11-09 03:52:59+00:00  34.731877   \n",
       "4276    8031  Nightlife   760168 2010-11-08 23:33:47+00:00  34.717348   \n",
       "4277   14410  Nightlife   286546 2010-09-29 03:20:24+00:00  30.281334   \n",
       "4278   14410  Nightlife   286546 2010-06-17 02:46:28+00:00  30.281334   \n",
       "\n",
       "      longitude   country_name state_name  \n",
       "0    -88.244226  United States    Alabama  \n",
       "1    -88.244226  United States    Alabama  \n",
       "2    -88.244226  United States    Alabama  \n",
       "3    -88.244226  United States    Alabama  \n",
       "4    -88.244226  United States    Alabama  \n",
       "...         ...            ...        ...  \n",
       "4274 -86.601423  United States    Alabama  \n",
       "4275 -86.585701  United States    Alabama  \n",
       "4276 -86.672453  United States    Alabama  \n",
       "4277 -87.518388  United States    Alabama  \n",
       "4278 -87.518388  United States    Alabama  \n",
       "\n",
       "[4279 rows x 8 columns]"
      ]
     },
     "execution_count": 28,
     "metadata": {},
     "output_type": "execute_result"
    }
   ],
   "source": [
    "g_dataset"
   ]
  },
  {
   "cell_type": "code",
   "execution_count": 29,
   "id": "69d89bc5",
   "metadata": {},
   "outputs": [],
   "source": [
    "g_dataset.to_csv('gowalla/checkins.csv', index=False)"
   ]
  }
 ],
 "metadata": {
  "kernelspec": {
   "display_name": "Python 3 (ipykernel)",
   "language": "python",
   "name": "python3"
  },
  "language_info": {
   "codemirror_mode": {
    "name": "ipython",
    "version": 3
   },
   "file_extension": ".py",
   "mimetype": "text/x-python",
   "name": "python",
   "nbconvert_exporter": "python",
   "pygments_lexer": "ipython3",
   "version": "3.10.6"
  }
 },
 "nbformat": 4,
 "nbformat_minor": 5
}
