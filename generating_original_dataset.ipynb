{
 "cells": [
  {
   "cell_type": "markdown",
   "id": "17fad4b3",
   "metadata": {},
   "source": [
    "# Libraries"
   ]
  },
  {
   "cell_type": "code",
   "execution_count": 1,
   "id": "17cfd500",
   "metadata": {},
   "outputs": [],
   "source": [
    "import pandas as pd\n",
    "import math\n",
    "import numpy as np"
   ]
  },
  {
   "cell_type": "markdown",
   "id": "8d7563a8",
   "metadata": {},
   "source": [
    "# Generating original dataset"
   ]
  },
  {
   "cell_type": "code",
   "execution_count": 2,
   "id": "bf2acc35",
   "metadata": {},
   "outputs": [],
   "source": [
    "# gowalla/checkins.csv é o arquivo gowalla_geo_checkins.csv gerado pelo Paulo\n",
    "g_dataset = pd.read_csv('../Dados/checkins_data/general/gowalla_geo_checkins.csv', index_col=False, usecols = ['userid', 'datetime', 'lat', 'lng', 'placeid', 'categoryid', 'NAME'])\n",
    "g_dataset = g_dataset.dropna()"
   ]
  },
  {
   "cell_type": "code",
   "execution_count": 3,
   "id": "e3f1ea01",
   "metadata": {},
   "outputs": [
    {
     "name": "stdout",
     "output_type": "stream",
     "text": [
      "<class 'pandas.core.frame.DataFrame'>\n",
      "Int64Index: 567352 entries, 0 to 875915\n",
      "Data columns (total 7 columns):\n",
      " #   Column      Non-Null Count   Dtype  \n",
      "---  ------      --------------   -----  \n",
      " 0   userid      567352 non-null  int64  \n",
      " 1   placeid     567352 non-null  int64  \n",
      " 2   datetime    567352 non-null  object \n",
      " 3   lng         567352 non-null  float64\n",
      " 4   lat         567352 non-null  float64\n",
      " 5   categoryid  567352 non-null  int64  \n",
      " 6   NAME        567352 non-null  object \n",
      "dtypes: float64(2), int64(3), object(2)\n",
      "memory usage: 34.6+ MB\n"
     ]
    }
   ],
   "source": [
    "g_dataset.info()"
   ]
  },
  {
   "cell_type": "code",
   "execution_count": 4,
   "id": "517817a0",
   "metadata": {},
   "outputs": [],
   "source": [
    "g_dataset['country'] = 'United States'\n",
    "g_dataset = g_dataset.rename(columns={'NAME': 'state'})"
   ]
  },
  {
   "cell_type": "code",
   "execution_count": 5,
   "id": "1f96c8f6",
   "metadata": {},
   "outputs": [],
   "source": [
    "# datetime converter\n",
    "g_dataset['datetime'] = pd.to_datetime(g_dataset['datetime'])\n",
    "order_cols = ['userid', 'categoryid', 'placeid', 'datetime', 'lat', 'lng', 'country', 'state']\n",
    "g_dataset = g_dataset[order_cols]"
   ]
  },
  {
   "cell_type": "code",
   "execution_count": 6,
   "id": "28abccc7",
   "metadata": {},
   "outputs": [],
   "source": [
    "cols = ['userid', 'category', 'placeid', 'local_datetime', 'latitude', 'longitude', 'country_name', 'state_name']\n",
    "# Criar um dicionário que mapeia os nomes atuais das colunas para os novos nomes\n",
    "maps = dict(zip(g_dataset.columns, cols))\n",
    "\n",
    "# Renomear as colunas usando o método rename()\n",
    "g_dataset = g_dataset.rename(columns=maps)"
   ]
  },
  {
   "cell_type": "code",
   "execution_count": 7,
   "id": "62987b28",
   "metadata": {},
   "outputs": [],
   "source": [
    "# category_names.csv é o arquivo category_names.csv gerado pelo Paulo\n",
    "\n",
    "categories = pd.read_csv('../Dados/checkins_data/general/category_names.csv')"
   ]
  },
  {
   "cell_type": "code",
   "execution_count": 8,
   "id": "70e68f0c",
   "metadata": {},
   "outputs": [],
   "source": [
    "g_dataset = pd.merge(g_dataset, categories, left_on=\"category\", right_on=\"categoryid\")\n",
    "g_dataset['category'] = g_dataset['name']\n",
    "g_dataset.drop(['name', 'categoryid'], axis=1, inplace=True)"
   ]
  },
  {
   "cell_type": "code",
   "execution_count": 9,
   "id": "7a971a5a",
   "metadata": {},
   "outputs": [
    {
     "data": {
      "text/html": [
       "<div>\n",
       "<style scoped>\n",
       "    .dataframe tbody tr th:only-of-type {\n",
       "        vertical-align: middle;\n",
       "    }\n",
       "\n",
       "    .dataframe tbody tr th {\n",
       "        vertical-align: top;\n",
       "    }\n",
       "\n",
       "    .dataframe thead th {\n",
       "        text-align: right;\n",
       "    }\n",
       "</style>\n",
       "<table border=\"1\" class=\"dataframe\">\n",
       "  <thead>\n",
       "    <tr style=\"text-align: right;\">\n",
       "      <th></th>\n",
       "      <th>userid</th>\n",
       "      <th>category</th>\n",
       "      <th>placeid</th>\n",
       "      <th>local_datetime</th>\n",
       "      <th>latitude</th>\n",
       "      <th>longitude</th>\n",
       "      <th>country_name</th>\n",
       "      <th>state_name</th>\n",
       "    </tr>\n",
       "  </thead>\n",
       "  <tbody>\n",
       "    <tr>\n",
       "      <th>0</th>\n",
       "      <td>1338</td>\n",
       "      <td>Nightlife</td>\n",
       "      <td>482954</td>\n",
       "      <td>2011-06-23 02:24:22+00:00</td>\n",
       "      <td>44.934198</td>\n",
       "      <td>-93.177506</td>\n",
       "      <td>United States</td>\n",
       "      <td>Minnesota</td>\n",
       "    </tr>\n",
       "    <tr>\n",
       "      <th>1</th>\n",
       "      <td>116691</td>\n",
       "      <td>Nightlife</td>\n",
       "      <td>482954</td>\n",
       "      <td>2011-06-05 17:42:29+00:00</td>\n",
       "      <td>44.934198</td>\n",
       "      <td>-93.177506</td>\n",
       "      <td>United States</td>\n",
       "      <td>Minnesota</td>\n",
       "    </tr>\n",
       "    <tr>\n",
       "      <th>2</th>\n",
       "      <td>59161</td>\n",
       "      <td>Nightlife</td>\n",
       "      <td>482954</td>\n",
       "      <td>2011-01-14 01:39:11+00:00</td>\n",
       "      <td>44.934198</td>\n",
       "      <td>-93.177506</td>\n",
       "      <td>United States</td>\n",
       "      <td>Minnesota</td>\n",
       "    </tr>\n",
       "    <tr>\n",
       "      <th>3</th>\n",
       "      <td>59161</td>\n",
       "      <td>Nightlife</td>\n",
       "      <td>482954</td>\n",
       "      <td>2010-07-23 01:32:22+00:00</td>\n",
       "      <td>44.934198</td>\n",
       "      <td>-93.177506</td>\n",
       "      <td>United States</td>\n",
       "      <td>Minnesota</td>\n",
       "    </tr>\n",
       "    <tr>\n",
       "      <th>4</th>\n",
       "      <td>149777</td>\n",
       "      <td>Nightlife</td>\n",
       "      <td>482954</td>\n",
       "      <td>2010-03-18 01:40:40+00:00</td>\n",
       "      <td>44.934198</td>\n",
       "      <td>-93.177506</td>\n",
       "      <td>United States</td>\n",
       "      <td>Minnesota</td>\n",
       "    </tr>\n",
       "    <tr>\n",
       "      <th>...</th>\n",
       "      <td>...</td>\n",
       "      <td>...</td>\n",
       "      <td>...</td>\n",
       "      <td>...</td>\n",
       "      <td>...</td>\n",
       "      <td>...</td>\n",
       "      <td>...</td>\n",
       "      <td>...</td>\n",
       "    </tr>\n",
       "    <tr>\n",
       "      <th>567347</th>\n",
       "      <td>57784</td>\n",
       "      <td>Outdoors</td>\n",
       "      <td>862189</td>\n",
       "      <td>2010-05-02 14:18:15+00:00</td>\n",
       "      <td>30.331140</td>\n",
       "      <td>-87.139284</td>\n",
       "      <td>United States</td>\n",
       "      <td>Florida</td>\n",
       "    </tr>\n",
       "    <tr>\n",
       "      <th>567348</th>\n",
       "      <td>8852</td>\n",
       "      <td>Outdoors</td>\n",
       "      <td>1006077</td>\n",
       "      <td>2011-02-20 19:56:00+00:00</td>\n",
       "      <td>48.535292</td>\n",
       "      <td>-123.014495</td>\n",
       "      <td>United States</td>\n",
       "      <td>Washington</td>\n",
       "    </tr>\n",
       "    <tr>\n",
       "      <th>567349</th>\n",
       "      <td>8852</td>\n",
       "      <td>Outdoors</td>\n",
       "      <td>1576881</td>\n",
       "      <td>2010-08-12 22:16:05+00:00</td>\n",
       "      <td>33.529635</td>\n",
       "      <td>-117.773644</td>\n",
       "      <td>United States</td>\n",
       "      <td>California</td>\n",
       "    </tr>\n",
       "    <tr>\n",
       "      <th>567350</th>\n",
       "      <td>8852</td>\n",
       "      <td>Outdoors</td>\n",
       "      <td>1576881</td>\n",
       "      <td>2010-08-11 23:16:16+00:00</td>\n",
       "      <td>33.529635</td>\n",
       "      <td>-117.773644</td>\n",
       "      <td>United States</td>\n",
       "      <td>California</td>\n",
       "    </tr>\n",
       "    <tr>\n",
       "      <th>567351</th>\n",
       "      <td>8852</td>\n",
       "      <td>Outdoors</td>\n",
       "      <td>1576881</td>\n",
       "      <td>2010-08-07 21:32:59+00:00</td>\n",
       "      <td>33.529635</td>\n",
       "      <td>-117.773644</td>\n",
       "      <td>United States</td>\n",
       "      <td>California</td>\n",
       "    </tr>\n",
       "  </tbody>\n",
       "</table>\n",
       "<p>567352 rows × 8 columns</p>\n",
       "</div>"
      ],
      "text/plain": [
       "        userid   category  placeid            local_datetime   latitude  \\\n",
       "0         1338  Nightlife   482954 2011-06-23 02:24:22+00:00  44.934198   \n",
       "1       116691  Nightlife   482954 2011-06-05 17:42:29+00:00  44.934198   \n",
       "2        59161  Nightlife   482954 2011-01-14 01:39:11+00:00  44.934198   \n",
       "3        59161  Nightlife   482954 2010-07-23 01:32:22+00:00  44.934198   \n",
       "4       149777  Nightlife   482954 2010-03-18 01:40:40+00:00  44.934198   \n",
       "...        ...        ...      ...                       ...        ...   \n",
       "567347   57784   Outdoors   862189 2010-05-02 14:18:15+00:00  30.331140   \n",
       "567348    8852   Outdoors  1006077 2011-02-20 19:56:00+00:00  48.535292   \n",
       "567349    8852   Outdoors  1576881 2010-08-12 22:16:05+00:00  33.529635   \n",
       "567350    8852   Outdoors  1576881 2010-08-11 23:16:16+00:00  33.529635   \n",
       "567351    8852   Outdoors  1576881 2010-08-07 21:32:59+00:00  33.529635   \n",
       "\n",
       "         longitude   country_name  state_name  \n",
       "0       -93.177506  United States   Minnesota  \n",
       "1       -93.177506  United States   Minnesota  \n",
       "2       -93.177506  United States   Minnesota  \n",
       "3       -93.177506  United States   Minnesota  \n",
       "4       -93.177506  United States   Minnesota  \n",
       "...            ...            ...         ...  \n",
       "567347  -87.139284  United States     Florida  \n",
       "567348 -123.014495  United States  Washington  \n",
       "567349 -117.773644  United States  California  \n",
       "567350 -117.773644  United States  California  \n",
       "567351 -117.773644  United States  California  \n",
       "\n",
       "[567352 rows x 8 columns]"
      ]
     },
     "execution_count": 9,
     "metadata": {},
     "output_type": "execute_result"
    }
   ],
   "source": [
    "g_dataset"
   ]
  },
  {
   "cell_type": "code",
   "execution_count": 10,
   "id": "b5ecce93",
   "metadata": {},
   "outputs": [
    {
     "name": "stdout",
     "output_type": "stream",
     "text": [
      "<class 'pandas.core.frame.DataFrame'>\n",
      "Int64Index: 170206 entries, 140262 to 223031\n",
      "Data columns (total 8 columns):\n",
      " #   Column          Non-Null Count   Dtype              \n",
      "---  ------          --------------   -----              \n",
      " 0   userid          170206 non-null  int64              \n",
      " 1   category        170206 non-null  object             \n",
      " 2   placeid         170206 non-null  int64              \n",
      " 3   local_datetime  170206 non-null  datetime64[ns, UTC]\n",
      " 4   latitude        170206 non-null  float64            \n",
      " 5   longitude       170206 non-null  float64            \n",
      " 6   country_name    170206 non-null  object             \n",
      " 7   state_name      170206 non-null  object             \n",
      "dtypes: datetime64[ns, UTC](1), float64(2), int64(2), object(3)\n",
      "memory usage: 11.7+ MB\n"
     ]
    }
   ],
   "source": [
    "g_dataset = g_dataset.sample(frac=0.3)\n",
    "g_dataset.info()"
   ]
  },
  {
   "cell_type": "code",
   "execution_count": 109,
   "id": "69d89bc5",
   "metadata": {},
   "outputs": [],
   "source": [
    "g_dataset = g_dataset.sample(frac=0.3)\n",
    "g_dataset.to_csv('gowalla/checkins.csv', index=False)"
   ]
  }
 ],
 "metadata": {
  "kernelspec": {
   "display_name": "Python 3",
   "language": "python",
   "name": "python3"
  },
  "language_info": {
   "codemirror_mode": {
    "name": "ipython",
    "version": 3
   },
   "file_extension": ".py",
   "mimetype": "text/x-python",
   "name": "python",
   "nbconvert_exporter": "python",
   "pygments_lexer": "ipython3",
   "version": "3.7.6"
  }
 },
 "nbformat": 4,
 "nbformat_minor": 5
}
